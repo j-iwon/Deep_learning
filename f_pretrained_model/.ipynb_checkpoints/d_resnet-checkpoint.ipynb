{
 "cells": [
  {
   "cell_type": "markdown",
   "id": "56ae0e78-aa76-4bdd-9694-171eaeaf6614",
   "metadata": {},
   "source": [
    "### **ResNet (마이크로소프트)**\n",
    "- VGG 이후 더 깊은 Network에 대한 연구가 증가했지만, Network 깊이가 깊어질 수록 오히려 accuracy가 떨어지는 문제가 있었다.\n",
    "- 층이 계속 깊어질 수록 계속해서 기울기가 0에 가까워지는 Grdient vanishing이 발생하기 때문이다.\n",
    "\n",
    "<img src=\"./images/ResNet01.png\" width=\"400\">\n",
    "\n",
    "- 이를 해결하고자 층을 깊게 만들되, Input 데이터와 결과가 동일하게 나올 수 있도록 하는 층을 연구하기 시작했다.\n",
    "  함수로 나타내면 H(x) = x 이다.\n",
    "- 하지만 활성화 함수를 통화한 값을 기존 Input 데이터와 동일하게 만드는 것은 굉장히 복잡했기 때문에\n",
    "  H(x) = F(x) + x 즉, F(x)를 0으로 만드는 F(x)에 포커스를 하게된다.\n",
    "- input은 x이고, Model인 F(x)라는 일련의 과정을 거치면서 자신인 x가 더해져서 output으로 F(x) + x가 나오는 구조가 된다.\n",
    "\n",
    "<img src=\"./images/ResNet02.png\" style=\"margin:30px; margin-left: 0;\">\r\n",
    "<img src=\"./images/ResNet03.png\" width=\"400\" style=\"margin:30px; margin-left: 0;\">"
   ]
  },
  {
   "cell_type": "code",
   "execution_count": null,
   "id": "c3047dac-93fe-489a-a1d5-202951304d91",
   "metadata": {},
   "outputs": [],
   "source": []
  },
  {
   "cell_type": "code",
   "execution_count": null,
   "id": "e12af63f-6f8f-41df-8cfc-77c383592609",
   "metadata": {},
   "outputs": [],
   "source": []
  },
  {
   "cell_type": "code",
   "execution_count": null,
   "id": "5f878f1e-1cbb-4a52-9c32-defa0cbdbd2c",
   "metadata": {},
   "outputs": [],
   "source": []
  }
 ],
 "metadata": {
  "kernelspec": {
   "display_name": "Python 3 (ipykernel)",
   "language": "python",
   "name": "python3"
  },
  "language_info": {
   "codemirror_mode": {
    "name": "ipython",
    "version": 3
   },
   "file_extension": ".py",
   "mimetype": "text/x-python",
   "name": "python",
   "nbconvert_exporter": "python",
   "pygments_lexer": "ipython3",
   "version": "3.11.8"
  }
 },
 "nbformat": 4,
 "nbformat_minor": 5
}
