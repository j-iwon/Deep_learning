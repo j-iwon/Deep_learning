{
 "cells": [
  {
   "cell_type": "markdown",
   "id": "7f28a67f-d2a5-4b92-b348-03f691ae160c",
   "metadata": {},
   "source": [
    "### **Inception Network (GoogleNet)**\n",
    "\n",
    "- 여러 사이즈의 커널들을 한꺼번에 결합하는 방식을 사용하며, 이를 묶어서 inception module이라고 한다.\n",
    "- 여러 개의 inception module을 연속적으로 이어서 구성하고 여러 사이즈으 ㅣ필터들이 서로 다른 공간 기반으로 feature들을 추출한다.\n",
    "- inception module을 결합하면서 보다 풍부한 Feature Extractor Layer를 구성하게 된다.\n",
    "\n",
    "<img src=\"./images/GoogLeNet.png\" width=\"550\" style=\"margin-top:20px; margin-left: 0\">\r\n",
    "<img src=\"./images/Inception_Network.png\" width=\"900\" style=\"margin-top:20px; margin-left: 0\">"
   ]
  },
  {
   "cell_type": "code",
   "execution_count": null,
   "id": "cd04c98a-7135-4bfe-8c45-4a84c015a314",
   "metadata": {},
   "outputs": [],
   "source": []
  },
  {
   "cell_type": "code",
   "execution_count": null,
   "id": "674c411f-d3b9-4684-a5e5-2838cea1cadc",
   "metadata": {},
   "outputs": [],
   "source": []
  },
  {
   "cell_type": "code",
   "execution_count": null,
   "id": "35cf1130-52e8-4f80-9754-f2cc4693fba6",
   "metadata": {},
   "outputs": [],
   "source": []
  },
  {
   "cell_type": "code",
   "execution_count": null,
   "id": "36b968e3-a7cf-49cb-ba78-f58aad7e217d",
   "metadata": {},
   "outputs": [],
   "source": []
  },
  {
   "cell_type": "code",
   "execution_count": null,
   "id": "2f838561-fcad-40fb-bc63-d29d8706352f",
   "metadata": {},
   "outputs": [],
   "source": []
  }
 ],
 "metadata": {
  "kernelspec": {
   "display_name": "Python 3 (ipykernel)",
   "language": "python",
   "name": "python3"
  },
  "language_info": {
   "codemirror_mode": {
    "name": "ipython",
    "version": 3
   },
   "file_extension": ".py",
   "mimetype": "text/x-python",
   "name": "python",
   "nbconvert_exporter": "python",
   "pygments_lexer": "ipython3",
   "version": "3.11.8"
  }
 },
 "nbformat": 4,
 "nbformat_minor": 5
}
