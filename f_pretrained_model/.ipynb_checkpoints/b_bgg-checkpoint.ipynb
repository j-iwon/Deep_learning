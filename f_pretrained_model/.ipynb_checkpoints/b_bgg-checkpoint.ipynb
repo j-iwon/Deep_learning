{
 "cells": [
  {
   "cell_type": "markdown",
   "id": "95f534e5-635c-4cf0-9a7a-f92313577e52",
   "metadata": {},
   "source": [
    "### **VGGNet (옥스포드 대학의 연구팀)**\n",
    "- 2014년 ILSVRC에서 GoogleNet이 1위, VGG는 2위를 차지했다.\n",
    "- GoogleNet의 오류율은 6.7%, VGG의 오류율은 7.3%이고, 0.6%차이밖에 나지 않았다.\n",
    "- 간결하고 단순한 아키텍처임에도 불구하고 1위인 GoogleNet과 큰 차이 없는 성능을 보여주어서 주목을 받게 되었다.\n",
    "- 네트워크 깊이에 따른 모델 성능의 영향에 대한 연구에 집중하여 만들어진 네트워크이다.\n",
    "- 신경망을 깊게 만들 수록 성능이 좋아짐을 확인하였지만, 커널 사이즈가 클 수록 이미지 사이즈가 급격하게 축소되기때문에  \n",
    "  더 깊은 층을 만들기 어렵고 파라미터 개수와 연상량도 더 많이 필요하다는 것을 알았다.\n",
    "- 따라서 kernel 크기를 3X3으로 단일화했으며, Padding, Strides 값을 조정하여 단순한 네트워크로 구성되었다.\n",
    "- 2개의 3X3 커널은 5X5 커널과 동일한 크기의 feature map을 생성하기 때문에 3X3 커널로 연산하면, 층을 더 만들 수 있게 된다.\n",
    "\n",
    "<img src=\"./images/VGG.png\">"
   ]
  },
  {
   "cell_type": "code",
   "execution_count": null,
   "id": "11a2785d-8de8-4b83-94a1-1938d1482a6e",
   "metadata": {},
   "outputs": [],
   "source": []
  },
  {
   "cell_type": "code",
   "execution_count": null,
   "id": "b935523d-c10a-40fe-ac23-ee1d94a89996",
   "metadata": {},
   "outputs": [],
   "source": []
  },
  {
   "cell_type": "code",
   "execution_count": null,
   "id": "9e8ab0fb-df47-40fa-bba5-49bfeadbd4f8",
   "metadata": {},
   "outputs": [],
   "source": []
  },
  {
   "cell_type": "code",
   "execution_count": null,
   "id": "19a1ffa3-0ac6-4918-b76e-36fd7af54aef",
   "metadata": {},
   "outputs": [],
   "source": []
  },
  {
   "cell_type": "code",
   "execution_count": null,
   "id": "915c4346-1fe9-47a8-ab3f-e2fb55e14cbc",
   "metadata": {},
   "outputs": [],
   "source": []
  },
  {
   "cell_type": "code",
   "execution_count": null,
   "id": "327b3283-09a9-47e2-9753-3542e41c6398",
   "metadata": {},
   "outputs": [],
   "source": []
  },
  {
   "cell_type": "code",
   "execution_count": null,
   "id": "bb302743-041c-4c2a-9f9d-824582a471c3",
   "metadata": {},
   "outputs": [],
   "source": []
  },
  {
   "cell_type": "code",
   "execution_count": null,
   "id": "8d855674-63cd-4503-9696-05217ddce4e7",
   "metadata": {},
   "outputs": [],
   "source": []
  }
 ],
 "metadata": {
  "kernelspec": {
   "display_name": "Python 3 (ipykernel)",
   "language": "python",
   "name": "python3"
  },
  "language_info": {
   "codemirror_mode": {
    "name": "ipython",
    "version": 3
   },
   "file_extension": ".py",
   "mimetype": "text/x-python",
   "name": "python",
   "nbconvert_exporter": "python",
   "pygments_lexer": "ipython3",
   "version": "3.11.8"
  }
 },
 "nbformat": 4,
 "nbformat_minor": 5
}
