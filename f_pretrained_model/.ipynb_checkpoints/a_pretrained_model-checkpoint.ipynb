{
 "cells": [
  {
   "cell_type": "markdown",
   "id": "1e1346d1-cbc1-4301-b4a4-ddae699d648b",
   "metadata": {},
   "source": [
    "### **Pretrained Model**\n",
    "- 모델을 처음부터 학습하면 오랜 시간 학습을 해야한다. 이를 위해 대규모 학습 기반으로 사전에 훈련된 모델을 활용한다.\n",
    "- 대규모 데이터 세트에서 훈련되고 저장된 네트워크로서, 일반적으로 대규모 이미지 분류 작업에서 훈련된 것을 뜻한다.\n",
    "- 입력 이미지는 대부분 244 * 244 크기이며, 모델별로 차이가 있다.\n",
    "- 자동차나 고양이 등을 포함한 1000개의 클래스, 총 1400만개의 이미지로 구성된 ImageNet 데이터 세트로 사전 훈련되었다.\n",
    "\n",
    "<img src=\"./images/pretrained_model.png\">\n",
    "\n",
    "### **ImageNet Large Scale Visual Recognition Challenge (ILSVRC)**\n",
    "- 2017년까지 대회가 주최되었으며, 이후에도 좋은 모델들이 등장했고, 앞으로도 계속 등장할 것이다.\n",
    "- 메이저 플레이어들(구글, 마이크로소프트)이 만들어놓은 모델들도 등장했다.\n",
    "\n",
    "<img src=\"./images/ILSVRC.png\">"
   ]
  },
  {
   "cell_type": "code",
   "execution_count": null,
   "id": "19dbc7cd-6e29-4131-b590-787b9f4b6b94",
   "metadata": {},
   "outputs": [],
   "source": [
    "from tensorflow.keras.applications.vgg16 import VGG16\n",
    "\n",
    "model = VGG16(include_top=True, weight='imagent')"
   ]
  },
  {
   "cell_type": "code",
   "execution_count": null,
   "id": "4dd99961-e317-4d1c-a299-f431e498a312",
   "metadata": {},
   "outputs": [],
   "source": []
  },
  {
   "cell_type": "code",
   "execution_count": null,
   "id": "5a7844a3-e56f-4631-9b15-9017becd9936",
   "metadata": {},
   "outputs": [],
   "source": []
  },
  {
   "cell_type": "code",
   "execution_count": null,
   "id": "9f5f2ef3-73e0-4bc5-b124-25e5a1d9599f",
   "metadata": {},
   "outputs": [],
   "source": []
  },
  {
   "cell_type": "code",
   "execution_count": null,
   "id": "e792f654-3a7a-422b-aed9-ab8e86fa1116",
   "metadata": {},
   "outputs": [],
   "source": []
  }
 ],
 "metadata": {
  "kernelspec": {
   "display_name": "Python 3 (ipykernel)",
   "language": "python",
   "name": "python3"
  },
  "language_info": {
   "codemirror_mode": {
    "name": "ipython",
    "version": 3
   },
   "file_extension": ".py",
   "mimetype": "text/x-python",
   "name": "python",
   "nbconvert_exporter": "python",
   "pygments_lexer": "ipython3",
   "version": "3.11.8"
  }
 },
 "nbformat": 4,
 "nbformat_minor": 5
}
