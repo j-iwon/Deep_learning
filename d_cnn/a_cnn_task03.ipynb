{
 "cells": [
  {
   "cell_type": "markdown",
   "id": "2300c0e0-da5c-4d0d-bec4-db5ace429b5c",
   "metadata": {},
   "source": [
    "### 표정 분류\n",
    "\n",
    "https://drive.google.com/file/d/1lpwQNwijBfaSr8knSNHKWu5KUmzYWU9d/view?usp=drive_link"
   ]
  },
  {
   "cell_type": "code",
   "execution_count": 1,
   "id": "73e233e5-5541-4104-bb89-7faa197b1f40",
   "metadata": {},
   "outputs": [
    {
     "name": "stdout",
     "output_type": "stream",
     "text": [
      "['angry', 'disgust', 'fear', 'happy', 'neutral', 'sad', 'surprise']\n"
     ]
    }
   ],
   "source": [
    "from glob import glob\n",
    "import os \n",
    "\n",
    "root = './datasets/face/original'\n",
    "\n",
    "directories =  glob(os.path.join(root, '*'))\n",
    "directory_names = []\n",
    "\n",
    "for directory in directories:\n",
    "    directory_names.append(directory[directory.rindex('\\\\') +1:])\n",
    "\n",
    "print(directory_names)"
   ]
  },
  {
   "cell_type": "code",
   "execution_count": 2,
   "id": "062f5427-7878-410e-ac22-651f9794b20b",
   "metadata": {},
   "outputs": [],
   "source": [
    "root = './datasets/face/original/'\n",
    "\n",
    "for name in directory_names:\n",
    "    for i, file_name in enumerate(os.listdir(os.path.join(root, name))):\n",
    "        old_file = os.path.join(root+ name +'/',file_name)\n",
    "        new_file = os.path.join(root+name+'/',name+str(i+1)+'.png')\n",
    "\n",
    "        os.rename(old_file, new_file)"
   ]
  },
  {
   "cell_type": "code",
   "execution_count": 6,
   "id": "5790d791-64ef-43bb-ac9a-19ec91e99e7d",
   "metadata": {},
   "outputs": [
    {
     "name": "stdout",
     "output_type": "stream",
     "text": [
      "['angry', 'disgust', 'fear', 'happy', 'neutral', 'sad', 'surprise']\n"
     ]
    }
   ],
   "source": [
    "from glob import glob\n",
    "import os \n",
    "\n",
    "root = './datasets/face/test'\n",
    "\n",
    "directories =  glob(os.path.join(root, '*'))\n",
    "directory_names = []\n",
    "\n",
    "for directory in directories:\n",
    "    directory_names.append(directory[directory.rindex('\\\\') +1:])\n",
    "\n",
    "print(directory_names)"
   ]
  },
  {
   "cell_type": "code",
   "execution_count": 7,
   "id": "d57fc4f6-3eeb-45e5-92d2-75ccf1806c8b",
   "metadata": {},
   "outputs": [],
   "source": [
    "root = './datasets/face/test/'\n",
    "\n",
    "for name in directory_names:\n",
    "    for i, file_name in enumerate(os.listdir(os.path.join(root, name))):\n",
    "        old_file = os.path.join(root+ name + '/' ,file_name)\n",
    "        new_file = os.path.join(root+ name + '/' , name + str(i+1) +'.png')\n",
    "\n",
    "        os.rename(old_file, new_file)"
   ]
  },
  {
   "cell_type": "code",
   "execution_count": 8,
   "id": "ba6cb547-6fa5-464d-95eb-c7ab780406a8",
   "metadata": {},
   "outputs": [
    {
     "name": "stdout",
     "output_type": "stream",
     "text": [
      "Found 7178 images belonging to 7 classes.\n",
      "{'angry': 0, 'disgust': 1, 'fear': 2, 'happy': 3, 'neutral': 4, 'sad': 5, 'surprise': 6}\n"
     ]
    }
   ],
   "source": [
    "from tensorflow.keras.preprocessing.image import ImageDataGenerator\n",
    "\n",
    "image_data_generator = ImageDataGenerator(rescale=1./255)\n",
    "generator = image_data_generator.flow_from_directory(root, target_size=(150,150), batch_size=32, class_mode='categorical')\n",
    "print(generator.class_indices)"
   ]
  },
  {
   "cell_type": "code",
   "execution_count": 9,
   "id": "43fe1c30-36f0-4eaa-96eb-de017d69fef2",
   "metadata": {},
   "outputs": [
    {
     "data": {
      "text/plain": [
       "0              ./datasets/face/test/angry\\angry1.png\n",
       "1             ./datasets/face/test/angry\\angry10.png\n",
       "2            ./datasets/face/test/angry\\angry100.png\n",
       "3            ./datasets/face/test/angry\\angry101.png\n",
       "4            ./datasets/face/test/angry\\angry102.png\n",
       "                            ...                     \n",
       "7173    ./datasets/face/test/surprise\\surprise95.png\n",
       "7174    ./datasets/face/test/surprise\\surprise96.png\n",
       "7175    ./datasets/face/test/surprise\\surprise97.png\n",
       "7176    ./datasets/face/test/surprise\\surprise98.png\n",
       "7177    ./datasets/face/test/surprise\\surprise99.png\n",
       "Name: file_paths, Length: 7178, dtype: object"
      ]
     },
     "execution_count": 9,
     "metadata": {},
     "output_type": "execute_result"
    }
   ],
   "source": [
    "import pandas as pd\n",
    "test_df = pd.DataFrame({'file_paths': generator.filepaths, 'targets':generator.classes})\n",
    "test_df.file_paths"
   ]
  },
  {
   "cell_type": "code",
   "execution_count": 10,
   "id": "929474c6-000c-426c-9b42-ac4a5788ac8d",
   "metadata": {},
   "outputs": [
    {
     "name": "stdout",
     "output_type": "stream",
     "text": [
      "Found 28709 images belonging to 7 classes.\n",
      "{'angry': 0, 'disgust': 1, 'fear': 2, 'happy': 3, 'neutral': 4, 'sad': 5, 'surprise': 6}\n"
     ]
    }
   ],
   "source": [
    "from tensorflow.keras.preprocessing.image import ImageDataGenerator\n",
    "\n",
    "root = './datasets/face/original/'\n",
    "\n",
    "image_data_generator = ImageDataGenerator(rescale=1./255)\n",
    "generator = image_data_generator.flow_from_directory(root, target_size=(150,150), batch_size=32, class_mode='categorical')\n",
    "print(generator.class_indices)"
   ]
  },
  {
   "cell_type": "code",
   "execution_count": 11,
   "id": "9918ac6d-c797-4a31-adc2-b59cfc19cc45",
   "metadata": {},
   "outputs": [
    {
     "data": {
      "text/html": [
       "<div>\n",
       "<style scoped>\n",
       "    .dataframe tbody tr th:only-of-type {\n",
       "        vertical-align: middle;\n",
       "    }\n",
       "\n",
       "    .dataframe tbody tr th {\n",
       "        vertical-align: top;\n",
       "    }\n",
       "\n",
       "    .dataframe thead th {\n",
       "        text-align: right;\n",
       "    }\n",
       "</style>\n",
       "<table border=\"1\" class=\"dataframe\">\n",
       "  <thead>\n",
       "    <tr style=\"text-align: right;\">\n",
       "      <th></th>\n",
       "      <th>file_paths</th>\n",
       "      <th>targets</th>\n",
       "    </tr>\n",
       "  </thead>\n",
       "  <tbody>\n",
       "    <tr>\n",
       "      <th>0</th>\n",
       "      <td>./datasets/face/original/angry\\angry1.png</td>\n",
       "      <td>0</td>\n",
       "    </tr>\n",
       "    <tr>\n",
       "      <th>1</th>\n",
       "      <td>./datasets/face/original/angry\\angry10.png</td>\n",
       "      <td>0</td>\n",
       "    </tr>\n",
       "    <tr>\n",
       "      <th>2</th>\n",
       "      <td>./datasets/face/original/angry\\angry100.png</td>\n",
       "      <td>0</td>\n",
       "    </tr>\n",
       "    <tr>\n",
       "      <th>3</th>\n",
       "      <td>./datasets/face/original/angry\\angry1000.png</td>\n",
       "      <td>0</td>\n",
       "    </tr>\n",
       "    <tr>\n",
       "      <th>4</th>\n",
       "      <td>./datasets/face/original/angry\\angry1001.png</td>\n",
       "      <td>0</td>\n",
       "    </tr>\n",
       "    <tr>\n",
       "      <th>...</th>\n",
       "      <td>...</td>\n",
       "      <td>...</td>\n",
       "    </tr>\n",
       "    <tr>\n",
       "      <th>28704</th>\n",
       "      <td>./datasets/face/original/surprise\\surprise995.png</td>\n",
       "      <td>6</td>\n",
       "    </tr>\n",
       "    <tr>\n",
       "      <th>28705</th>\n",
       "      <td>./datasets/face/original/surprise\\surprise996.png</td>\n",
       "      <td>6</td>\n",
       "    </tr>\n",
       "    <tr>\n",
       "      <th>28706</th>\n",
       "      <td>./datasets/face/original/surprise\\surprise997.png</td>\n",
       "      <td>6</td>\n",
       "    </tr>\n",
       "    <tr>\n",
       "      <th>28707</th>\n",
       "      <td>./datasets/face/original/surprise\\surprise998.png</td>\n",
       "      <td>6</td>\n",
       "    </tr>\n",
       "    <tr>\n",
       "      <th>28708</th>\n",
       "      <td>./datasets/face/original/surprise\\surprise999.png</td>\n",
       "      <td>6</td>\n",
       "    </tr>\n",
       "  </tbody>\n",
       "</table>\n",
       "<p>28709 rows × 2 columns</p>\n",
       "</div>"
      ],
      "text/plain": [
       "                                              file_paths  targets\n",
       "0              ./datasets/face/original/angry\\angry1.png        0\n",
       "1             ./datasets/face/original/angry\\angry10.png        0\n",
       "2            ./datasets/face/original/angry\\angry100.png        0\n",
       "3           ./datasets/face/original/angry\\angry1000.png        0\n",
       "4           ./datasets/face/original/angry\\angry1001.png        0\n",
       "...                                                  ...      ...\n",
       "28704  ./datasets/face/original/surprise\\surprise995.png        6\n",
       "28705  ./datasets/face/original/surprise\\surprise996.png        6\n",
       "28706  ./datasets/face/original/surprise\\surprise997.png        6\n",
       "28707  ./datasets/face/original/surprise\\surprise998.png        6\n",
       "28708  ./datasets/face/original/surprise\\surprise999.png        6\n",
       "\n",
       "[28709 rows x 2 columns]"
      ]
     },
     "execution_count": 11,
     "metadata": {},
     "output_type": "execute_result"
    }
   ],
   "source": [
    "import pandas as pd\n",
    "train_df = pd.DataFrame({'file_paths': generator.filepaths, 'targets':generator.classes})\n",
    "train_df"
   ]
  },
  {
   "cell_type": "code",
   "execution_count": 12,
   "id": "27622a9a-f78b-40bc-b002-5b4080090d5f",
   "metadata": {},
   "outputs": [
    {
     "data": {
      "text/plain": [
       "0                ./datasets/face/original/angry/angry1.png\n",
       "1               ./datasets/face/original/angry/angry10.png\n",
       "2              ./datasets/face/original/angry/angry100.png\n",
       "3             ./datasets/face/original/angry/angry1000.png\n",
       "4             ./datasets/face/original/angry/angry1001.png\n",
       "                               ...                        \n",
       "28704    ./datasets/face/original/surprise/surprise995.png\n",
       "28705    ./datasets/face/original/surprise/surprise996.png\n",
       "28706    ./datasets/face/original/surprise/surprise997.png\n",
       "28707    ./datasets/face/original/surprise/surprise998.png\n",
       "28708    ./datasets/face/original/surprise/surprise999.png\n",
       "Name: file_paths, Length: 28709, dtype: object"
      ]
     },
     "metadata": {},
     "output_type": "display_data"
    },
    {
     "data": {
      "text/plain": [
       "0              ./datasets/face/test/angry/angry1.png\n",
       "1             ./datasets/face/test/angry/angry10.png\n",
       "2            ./datasets/face/test/angry/angry100.png\n",
       "3            ./datasets/face/test/angry/angry101.png\n",
       "4            ./datasets/face/test/angry/angry102.png\n",
       "                            ...                     \n",
       "7173    ./datasets/face/test/surprise/surprise95.png\n",
       "7174    ./datasets/face/test/surprise/surprise96.png\n",
       "7175    ./datasets/face/test/surprise/surprise97.png\n",
       "7176    ./datasets/face/test/surprise/surprise98.png\n",
       "7177    ./datasets/face/test/surprise/surprise99.png\n",
       "Name: file_paths, Length: 7178, dtype: object"
      ]
     },
     "metadata": {},
     "output_type": "display_data"
    }
   ],
   "source": [
    "train_df.loc[:, 'file_paths'] = train_df.file_paths.apply(lambda x: x.replace('\\\\','/')).reset_index(drop=True)\n",
    "test_df.loc[:, 'file_paths'] = test_df.file_paths.apply(lambda x: x.replace('\\\\','/')).reset_index(drop=True)\n",
    "display(train_df.file_paths)\n",
    "display(test_df.file_paths)"
   ]
  },
  {
   "cell_type": "code",
   "execution_count": 13,
   "id": "888e55cc-dcc5-4121-ae66-dc36cab09f03",
   "metadata": {},
   "outputs": [
    {
     "name": "stdout",
     "output_type": "stream",
     "text": [
      "targets\n",
      "3    5772\n",
      "4    3972\n",
      "5    3864\n",
      "2    3277\n",
      "0    3196\n",
      "6    2537\n",
      "1     349\n",
      "Name: count, dtype: int64\n",
      "targets\n",
      "3    1443\n",
      "4     993\n",
      "5     966\n",
      "2     820\n",
      "0     799\n",
      "6     634\n",
      "1      87\n",
      "Name: count, dtype: int64\n"
     ]
    }
   ],
   "source": [
    "from sklearn.model_selection import train_test_split\n",
    "\n",
    "X_train, X_val, y_train, y_val =\\\n",
    "train_test_split(train_df.file_paths, train_df.targets, stratify=train_df.targets, test_size=0.2, random_state=124)\n",
    "\n",
    "print(y_train.value_counts())\n",
    "print(y_val.value_counts())"
   ]
  },
  {
   "cell_type": "code",
   "execution_count": 17,
   "id": "046b5195-a0ac-4187-b2b2-12ab64001b42",
   "metadata": {},
   "outputs": [],
   "source": [
    "import shutil\n",
    "\n",
    "root = './datasets/face/'\n",
    "\n",
    "for file_path in X_train:\n",
    "    # print(file_path)\n",
    "    face_dir = file_path[len(root+'original/'):file_path.rindex('/')]\n",
    "    # print(face_dir)\n",
    "    destination = os.path.join(root,'train/'+face_dir)\n",
    "    if not os.path.exists(destination):\n",
    "        os.makedirs(destination)\n",
    "    shutil.copy2(file_path, destination)"
   ]
  },
  {
   "cell_type": "code",
   "execution_count": 18,
   "id": "2111a604-1d86-4761-941d-7eb5a2c86725",
   "metadata": {},
   "outputs": [],
   "source": [
    "import shutil\n",
    "\n",
    "root = './datasets/face/'\n",
    "\n",
    "for file_path in X_val:\n",
    "    # print(file_path)\n",
    "    face_dir = file_path[len(root+'original/'):file_path.rindex('/')]\n",
    "    # print(face_dir)\n",
    "    destination = os.path.join(root,'validation/'+face_dir)\n",
    "    if not os.path.exists(destination):\n",
    "        os.makedirs(destination)\n",
    "    shutil.copy2(file_path, destination)"
   ]
  }
 ],
 "metadata": {
  "kernelspec": {
   "display_name": "Python 3 (ipykernel)",
   "language": "python",
   "name": "python3"
  },
  "language_info": {
   "codemirror_mode": {
    "name": "ipython",
    "version": 3
   },
   "file_extension": ".py",
   "mimetype": "text/x-python",
   "name": "python",
   "nbconvert_exporter": "python",
   "pygments_lexer": "ipython3",
   "version": "3.11.8"
  }
 },
 "nbformat": 4,
 "nbformat_minor": 5
}
