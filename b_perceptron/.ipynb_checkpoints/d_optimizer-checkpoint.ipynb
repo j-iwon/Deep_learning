{
 "cells": [
  {
   "cell_type": "markdown",
   "id": "4e8eba17-f31c-4cbc-be45-95bc40e3085d",
   "metadata": {},
   "source": [
    "### **Optimizer, 최적화**\n",
    "- 최적의 경사 하강법을 적용하기 위해 필요하며, 최소값을 찾아가는 방법들을 의미한다.\n",
    "- loss를 줄이는 방향으로 최소 loss를 보다 빠르고 안정적으로 수렴할 수 있어야한다.\n",
    "\n",
    "<img src=\"./images/optimizer.png\" width=\"650px\"  style=\"margin-left: 10px\">\n",
    "\n",
    "#### **Momentum**\n",
    "- 가중치를 계속 업데이트 할 때마다 이전의 값을 일정 수준 반영시키면서 새로운 가중치로 업데이트한다.\n",
    "- 지역 최소값에서 벗어나지 못하는 문제를 해결할 수 있으며, 진행했던 방향만큼 추가적으로 더하여, 관성처럼 빠져나올 수 있게 해준다.\n",
    "\n",
    "<img src=\"./images/momentum.png\" width=\"650px\">"
   ]
  },
  {
   "cell_type": "code",
   "execution_count": null,
   "id": "ac4ce2a5-4b91-47cd-b388-1a3fea0b8b98",
   "metadata": {},
   "outputs": [],
   "source": []
  },
  {
   "cell_type": "code",
   "execution_count": null,
   "id": "e86ecc57-2030-4dc4-9650-a41e08f85e52",
   "metadata": {},
   "outputs": [],
   "source": []
  }
 ],
 "metadata": {
  "kernelspec": {
   "display_name": "Python 3 (ipykernel)",
   "language": "python",
   "name": "python3"
  },
  "language_info": {
   "codemirror_mode": {
    "name": "ipython",
    "version": 3
   },
   "file_extension": ".py",
   "mimetype": "text/x-python",
   "name": "python",
   "nbconvert_exporter": "python",
   "pygments_lexer": "ipython3",
   "version": "3.11.8"
  }
 },
 "nbformat": 4,
 "nbformat_minor": 5
}
