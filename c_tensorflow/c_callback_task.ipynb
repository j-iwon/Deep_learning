{
 "cells": [
  {
   "cell_type": "markdown",
   "id": "8e4cadf9-72e3-4756-b217-a22161e42395",
   "metadata": {},
   "source": [
    "### Callback API Task"
   ]
  },
  {
   "cell_type": "code",
   "execution_count": 1,
   "id": "1696fdcc-9cec-4ee5-93de-b7d62f7a5c30",
   "metadata": {},
   "outputs": [
    {
     "name": "stdout",
     "output_type": "stream",
     "text": [
      "train dataset shape: (60000, 28, 28) (60000,)\n",
      "test dataset shape: (10000, 28, 28) (10000,)\n"
     ]
    }
   ],
   "source": [
    "from keras.datasets import mnist\n",
    "\n",
    "(train_images, train_labels), (test_images, test_labels) = mnist.load_data()\n",
    "print(\"train dataset shape:\", train_images.shape, train_labels.shape)\n",
    "print(\"test dataset shape:\", test_images.shape, test_labels.shape)"
   ]
  },
  {
   "cell_type": "code",
   "execution_count": 2,
   "id": "57fbfbef-ba77-41a6-ac22-f2472d844290",
   "metadata": {},
   "outputs": [],
   "source": [
    "from tensorflow.keras.layers import Layer, Input, Dense, Flatten\n",
    "from tensorflow.keras.models import Model\n",
    "\n",
    "INPUT_SIZE = 28\n",
    "\n",
    "def create_model():\n",
    "    input_tensor = Input(shape=(INPUT_SIZE, INPUT_SIZE))\n",
    "    x = Flatten()(input_tensor)\n",
    "    x = Dense(64, activation='relu')(x)\n",
    "    x = Dense(128, activation='relu')(x)\n",
    "    output = Dense(10, activation='softmax')(x)\n",
    "\n",
    "    model = Model(inputs=input_tensor, outputs=output)\n",
    "    return model"
   ]
  },
  {
   "cell_type": "code",
   "execution_count": 3,
   "id": "cd787874-be8e-46bd-8c7c-77f321043801",
   "metadata": {},
   "outputs": [],
   "source": [
    "from tensorflow.keras.utils import to_categorical\n",
    "from sklearn.model_selection import train_test_split\n",
    "import numpy as np\n",
    "\n",
    "def get_preprocessed_data(images, targets):\n",
    "    images = np.array(images / 255.0, dtype=np.float32)\n",
    "    targets = np.array(targets, dtype=np.float32)\n",
    "\n",
    "    return images, targets\n",
    "\n",
    "def get_preprocessed_ohe(images, targets):\n",
    "    images, targets = get_preprocessed_data(images, targets)\n",
    "    oh_targets = to_categorical(targets)\n",
    "\n",
    "    return images, oh_targets\n",
    "\n",
    "def get_train_valid_test(train_images, train_targets, test_images, test_targets, validation_size=0.2, random_state=124):\n",
    "    train_images, train_oh_targets = get_preprocessed_ohe(train_images, train_targets)\n",
    "    test_images, test_oh_targets = get_preprocessed_ohe(test_images, test_targets)\n",
    "\n",
    "    train_images, validation_images, train_oh_targets, validation_oh_targets = \\\n",
    "    train_test_split(train_images, train_oh_targets, stratify=train_oh_targets, test_size=validation_size, random_state=random_state)\n",
    "\n",
    "    return (train_images, train_oh_targets), (validation_images, validation_oh_targets), (test_images, test_oh_targets)"
   ]
  },
  {
   "cell_type": "code",
   "execution_count": 5,
   "id": "5dabc96e-bc03-4977-90c2-151e3b409e0a",
   "metadata": {},
   "outputs": [
    {
     "name": "stdout",
     "output_type": "stream",
     "text": [
      "(48000, 28, 28) (48000, 10)\n",
      "(12000, 28, 28) (12000, 10)\n",
      "(10000, 28, 28) (10000, 10)\n"
     ]
    }
   ],
   "source": [
    "from keras.datasets import mnist\n",
    "\n",
    "(train_images, train_targets), (test_images, test_targets) = mnist.load_data()\n",
    "\n",
    "(train_images, train_oh_targets), (validation_images, validation_oh_targets), (test_images, test_oh_targets) = \\\n",
    "get_train_valid_test(train_images, train_targets, test_images, test_targets)\n",
    "\n",
    "print(train_images.shape, train_oh_targets.shape)\n",
    "print(validation_images.shape, validation_oh_targets.shape)\n",
    "print(test_images.shape, test_oh_targets.shape)"
   ]
  },
  {
   "cell_type": "code",
   "execution_count": 7,
   "id": "30354b7f-2c5d-42b6-aa1c-4441a063c2a6",
   "metadata": {},
   "outputs": [
    {
     "name": "stdout",
     "output_type": "stream",
     "text": [
      "Epoch 1/20\n",
      "\u001b[1m750/750\u001b[0m \u001b[32m━━━━━━━━━━━━━━━━━━━━\u001b[0m\u001b[37m\u001b[0m \u001b[1m3s\u001b[0m 2ms/step - acc: 0.8230 - loss: 0.6100 - val_acc: 0.9449 - val_loss: 0.1798 - learning_rate: 0.0010\n",
      "Epoch 2/20\n",
      "\u001b[1m750/750\u001b[0m \u001b[32m━━━━━━━━━━━━━━━━━━━━\u001b[0m\u001b[37m\u001b[0m \u001b[1m1s\u001b[0m 2ms/step - acc: 0.9543 - loss: 0.1568 - val_acc: 0.9553 - val_loss: 0.1453 - learning_rate: 0.0010\n",
      "Epoch 3/20\n",
      "\u001b[1m750/750\u001b[0m \u001b[32m━━━━━━━━━━━━━━━━━━━━\u001b[0m\u001b[37m\u001b[0m \u001b[1m1s\u001b[0m 2ms/step - acc: 0.9683 - loss: 0.1050 - val_acc: 0.9618 - val_loss: 0.1256 - learning_rate: 0.0010\n",
      "Epoch 4/20\n",
      "\u001b[1m750/750\u001b[0m \u001b[32m━━━━━━━━━━━━━━━━━━━━\u001b[0m\u001b[37m\u001b[0m \u001b[1m1s\u001b[0m 2ms/step - acc: 0.9749 - loss: 0.0800 - val_acc: 0.9648 - val_loss: 0.1084 - learning_rate: 0.0010\n",
      "Epoch 5/20\n",
      "\u001b[1m750/750\u001b[0m \u001b[32m━━━━━━━━━━━━━━━━━━━━\u001b[0m\u001b[37m\u001b[0m \u001b[1m1s\u001b[0m 2ms/step - acc: 0.9789 - loss: 0.0661 - val_acc: 0.9719 - val_loss: 0.0909 - learning_rate: 0.0010\n",
      "Epoch 6/20\n",
      "\u001b[1m750/750\u001b[0m \u001b[32m━━━━━━━━━━━━━━━━━━━━\u001b[0m\u001b[37m\u001b[0m \u001b[1m1s\u001b[0m 2ms/step - acc: 0.9836 - loss: 0.0532 - val_acc: 0.9678 - val_loss: 0.1047 - learning_rate: 0.0010\n",
      "Epoch 7/20\n",
      "\u001b[1m750/750\u001b[0m \u001b[32m━━━━━━━━━━━━━━━━━━━━\u001b[0m\u001b[37m\u001b[0m \u001b[1m1s\u001b[0m 2ms/step - acc: 0.9854 - loss: 0.0467 - val_acc: 0.9739 - val_loss: 0.0865 - learning_rate: 0.0010\n",
      "Epoch 8/20\n",
      "\u001b[1m750/750\u001b[0m \u001b[32m━━━━━━━━━━━━━━━━━━━━\u001b[0m\u001b[37m\u001b[0m \u001b[1m1s\u001b[0m 2ms/step - acc: 0.9879 - loss: 0.0383 - val_acc: 0.9722 - val_loss: 0.0943 - learning_rate: 0.0010\n",
      "Epoch 9/20\n",
      "\u001b[1m750/750\u001b[0m \u001b[32m━━━━━━━━━━━━━━━━━━━━\u001b[0m\u001b[37m\u001b[0m \u001b[1m1s\u001b[0m 2ms/step - acc: 0.9907 - loss: 0.0290 - val_acc: 0.9680 - val_loss: 0.1112 - learning_rate: 0.0010\n",
      "Epoch 10/20\n",
      "\u001b[1m750/750\u001b[0m \u001b[32m━━━━━━━━━━━━━━━━━━━━\u001b[0m\u001b[37m\u001b[0m \u001b[1m1s\u001b[0m 1ms/step - acc: 0.9939 - loss: 0.0215 - val_acc: 0.9768 - val_loss: 0.0804 - learning_rate: 1.0000e-04\n",
      "Epoch 11/20\n",
      "\u001b[1m750/750\u001b[0m \u001b[32m━━━━━━━━━━━━━━━━━━━━\u001b[0m\u001b[37m\u001b[0m \u001b[1m1s\u001b[0m 2ms/step - acc: 0.9970 - loss: 0.0144 - val_acc: 0.9772 - val_loss: 0.0779 - learning_rate: 1.0000e-04\n",
      "Epoch 12/20\n",
      "\u001b[1m750/750\u001b[0m \u001b[32m━━━━━━━━━━━━━━━━━━━━\u001b[0m\u001b[37m\u001b[0m \u001b[1m1s\u001b[0m 1ms/step - acc: 0.9976 - loss: 0.0120 - val_acc: 0.9772 - val_loss: 0.0784 - learning_rate: 1.0000e-04\n",
      "Epoch 13/20\n",
      "\u001b[1m750/750\u001b[0m \u001b[32m━━━━━━━━━━━━━━━━━━━━\u001b[0m\u001b[37m\u001b[0m \u001b[1m1s\u001b[0m 2ms/step - acc: 0.9977 - loss: 0.0113 - val_acc: 0.9770 - val_loss: 0.0778 - learning_rate: 1.0000e-04\n",
      "Epoch 14/20\n",
      "\u001b[1m750/750\u001b[0m \u001b[32m━━━━━━━━━━━━━━━━━━━━\u001b[0m\u001b[37m\u001b[0m \u001b[1m1s\u001b[0m 1ms/step - acc: 0.9986 - loss: 0.0089 - val_acc: 0.9777 - val_loss: 0.0775 - learning_rate: 1.0000e-05\n",
      "Epoch 15/20\n",
      "\u001b[1m750/750\u001b[0m \u001b[32m━━━━━━━━━━━━━━━━━━━━\u001b[0m\u001b[37m\u001b[0m \u001b[1m1s\u001b[0m 1ms/step - acc: 0.9982 - loss: 0.0094 - val_acc: 0.9774 - val_loss: 0.0776 - learning_rate: 1.0000e-05\n",
      "Epoch 16/20\n",
      "\u001b[1m750/750\u001b[0m \u001b[32m━━━━━━━━━━━━━━━━━━━━\u001b[0m\u001b[37m\u001b[0m \u001b[1m1s\u001b[0m 2ms/step - acc: 0.9989 - loss: 0.0080 - val_acc: 0.9781 - val_loss: 0.0776 - learning_rate: 1.0000e-05\n",
      "Epoch 17/20\n",
      "\u001b[1m750/750\u001b[0m \u001b[32m━━━━━━━━━━━━━━━━━━━━\u001b[0m\u001b[37m\u001b[0m \u001b[1m1s\u001b[0m 1ms/step - acc: 0.9986 - loss: 0.0084 - val_acc: 0.9780 - val_loss: 0.0776 - learning_rate: 1.0000e-06\n"
     ]
    }
   ],
   "source": [
    "from tensorflow.keras.optimizers import Adam\n",
    "from tensorflow.keras.losses import CategoricalCrossentropy\n",
    "from tensorflow.keras.callbacks import ModelCheckpoint\n",
    "from tensorflow.keras.callbacks import ReduceLROnPlateau\n",
    "from tensorflow.keras.callbacks import EarlyStopping\n",
    "\n",
    "model = create_model()\n",
    "model.compile(optimizer=Adam(), loss=CategoricalCrossentropy(), metrics=['acc'])\n",
    "\n",
    "# ModelCheckpoint\n",
    "mcp_cb = ModelCheckpoint(\n",
    "    filepath = \"./callback_files/weights.{epoch:03d}-{val_loss:.4f}-{acc:.4f}.weights.h5\",\n",
    "    monitor = 'val_loss',\n",
    "    save_best_only = False,\n",
    "    save_weights_only = True,\n",
    "    mode = 'min'\n",
    ")\n",
    "\n",
    "# ReduceLROnPlateau\n",
    "rlr_cb = ReduceLROnPlateau(\n",
    "    monitor = 'val_loss',\n",
    "    factor = 0.1,\n",
    "    patience = 2,\n",
    "    mode = 'min'\n",
    ")\n",
    "\n",
    "# EarlyStopping\n",
    "ely_cb = EarlyStopping(\n",
    "    monitor = 'val_loss',\n",
    "    patience = 3,\n",
    "    mode = 'min'\n",
    ")\n",
    "\n",
    "history = model.fit(x=train_images, y=train_oh_targets, \n",
    "                    validation_data=(validation_images, validation_oh_targets), \n",
    "                    batch_size=64, epochs=20, callbacks=[mcp_cb, rlr_cb, ely_cb])"
   ]
  },
  {
   "cell_type": "code",
   "execution_count": 8,
   "id": "21ae3260-11d1-4605-8bc0-d9acf7e28973",
   "metadata": {},
   "outputs": [
    {
     "name": "stdout",
     "output_type": "stream",
     "text": [
      " E 드라이브의 볼륨: 새 볼륨\n",
      " 볼륨 일련 번호: 6A3C-E039\n",
      "\n",
      " E:\\kdt_0900_pjw\\ai\\deep_learning\\c_tensorflow\\callback_files 디렉터리\n",
      "\n",
      "2024-05-28 화  오전 11:09    <DIR>          .\n",
      "2024-05-28 화  오전 11:11    <DIR>          ..\n",
      "2024-05-28 화  오전 11:09           739,600 weights.001-0.1798-0.9015.weights.h5\n",
      "2024-05-28 화  오전 11:09           739,600 weights.002-0.1453-0.9571.weights.h5\n",
      "2024-05-28 화  오전 11:09           739,600 weights.003-0.1256-0.9682.weights.h5\n",
      "2024-05-28 화  오전 11:09           739,600 weights.004-0.1084-0.9741.weights.h5\n",
      "2024-05-28 화  오전 11:09           739,600 weights.005-0.0909-0.9791.weights.h5\n",
      "2024-05-28 화  오전 11:09           739,600 weights.006-0.1047-0.9825.weights.h5\n",
      "2024-05-28 화  오전 11:09           739,600 weights.007-0.0865-0.9856.weights.h5\n",
      "2024-05-28 화  오전 11:09           739,600 weights.008-0.0943-0.9868.weights.h5\n",
      "2024-05-28 화  오전 11:09           739,600 weights.009-0.1112-0.9900.weights.h5\n",
      "2024-05-28 화  오전 11:09           739,600 weights.010-0.0804-0.9954.weights.h5\n",
      "2024-05-28 화  오전 11:09           739,600 weights.011-0.0779-0.9970.weights.h5\n",
      "2024-05-28 화  오전 11:09           739,600 weights.012-0.0784-0.9975.weights.h5\n",
      "2024-05-28 화  오전 11:09           739,600 weights.013-0.0778-0.9977.weights.h5\n",
      "2024-05-28 화  오전 11:09           739,600 weights.014-0.0775-0.9984.weights.h5\n",
      "2024-05-28 화  오전 11:09           739,600 weights.015-0.0776-0.9985.weights.h5\n",
      "2024-05-28 화  오전 11:09           739,600 weights.016-0.0776-0.9984.weights.h5\n",
      "2024-05-28 화  오전 11:09           739,600 weights.017-0.0776-0.9985.weights.h5\n",
      "              17개 파일          12,573,200 바이트\n",
      "               2개 디렉터리  488,054,534,144 바이트 남음\n"
     ]
    }
   ],
   "source": [
    "# 저장된 파일 확인\n",
    "!dir callback_files"
   ]
  },
  {
   "cell_type": "code",
   "execution_count": 9,
   "id": "58c518a5-5345-4d87-945b-f0af391e3c68",
   "metadata": {},
   "outputs": [
    {
     "name": "stdout",
     "output_type": "stream",
     "text": [
      "\u001b[1m313/313\u001b[0m \u001b[32m━━━━━━━━━━━━━━━━━━━━\u001b[0m\u001b[37m\u001b[0m \u001b[1m0s\u001b[0m 797us/step - acc: 0.9749 - loss: 0.0963\n"
     ]
    },
    {
     "data": {
      "text/plain": [
       "[0.08458208292722702, 0.9769999980926514]"
      ]
     },
     "execution_count": 9,
     "metadata": {},
     "output_type": "execute_result"
    }
   ],
   "source": [
    "model.evaluate(test_images, test_oh_targets)"
   ]
  },
  {
   "cell_type": "code",
   "execution_count": 10,
   "id": "69af18b3-6215-415b-9b7b-0080e2a1f979",
   "metadata": {},
   "outputs": [
    {
     "name": "stdout",
     "output_type": "stream",
     "text": [
      "\u001b[1m313/313\u001b[0m \u001b[32m━━━━━━━━━━━━━━━━━━━━\u001b[0m\u001b[37m\u001b[0m \u001b[1m1s\u001b[0m 805us/step - acc: 0.9749 - loss: 0.0963\n"
     ]
    },
    {
     "data": {
      "text/plain": [
       "[0.08458208292722702, 0.9769999980926514]"
      ]
     },
     "execution_count": 10,
     "metadata": {},
     "output_type": "execute_result"
    }
   ],
   "source": [
    "# 모델 초기화 하기\n",
    "model = create_model()\n",
    "# weight 로드해서 불러오기\n",
    "model.load_weights('./callback_files/weights.017-0.0776-0.9985.weights.h5')\n",
    "# model에 컴파일 해주기\n",
    "model.compile(optimizer=Adam(), loss=CategoricalCrossentropy(), metrics=['acc'])\n",
    "# 테스트 확인하기\n",
    "model.evaluate(test_images, test_oh_targets)"
   ]
  }
 ],
 "metadata": {
  "kernelspec": {
   "display_name": "Python 3 (ipykernel)",
   "language": "python",
   "name": "python3"
  },
  "language_info": {
   "codemirror_mode": {
    "name": "ipython",
    "version": 3
   },
   "file_extension": ".py",
   "mimetype": "text/x-python",
   "name": "python",
   "nbconvert_exporter": "python",
   "pygments_lexer": "ipython3",
   "version": "3.11.8"
  }
 },
 "nbformat": 4,
 "nbformat_minor": 5
}
